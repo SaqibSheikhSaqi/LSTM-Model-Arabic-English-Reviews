{
 "cells": [
  {
   "cell_type": "code",
   "execution_count": 14,
   "id": "7a167b0f",
   "metadata": {},
   "outputs": [
    {
     "name": "stdout",
     "output_type": "stream",
     "text": [
      "WARNING:tensorflow:11 out of the last 11 calls to <function Model.make_predict_function.<locals>.predict_function at 0x0000022BB792C9D0> triggered tf.function retracing. Tracing is expensive and the excessive number of tracings could be due to (1) creating @tf.function repeatedly in a loop, (2) passing tensors with different shapes, (3) passing Python objects instead of tensors. For (1), please define your @tf.function outside of the loop. For (2), @tf.function has experimental_relax_shapes=True option that relaxes argument shapes that can avoid unnecessary retracing. For (3), please refer to https://www.tensorflow.org/tutorials/customization/performance#python_or_tensor_args and https://www.tensorflow.org/api_docs/python/tf/function for  more details.\n"
     ]
    }
   ],
   "source": [
    "import tkinter as tk\n",
    "from tkinter import messagebox\n",
    "import tensorflow as tf\n",
    "from tensorflow.keras.models import load_model\n",
    "from tensorflow.keras.preprocessing.text import one_hot\n",
    "from tensorflow.keras.preprocessing.sequence import pad_sequences\n",
    "\n",
    "# Load your model\n",
    "voc_size = 5000\n",
    "sent_length = 30\n",
    "loaded_model = load_model('D:/ArabicResult/ArabicEnglishModel.h5')\n",
    "\n",
    "def predict_sentiment(input_text, result_text):\n",
    "    # Tokenize and pad the input text\n",
    "    onehot_repr = [one_hot(input_text, voc_size)]\n",
    "    embedded_docs = pad_sequences(onehot_repr, padding='pre', maxlen=sent_length)\n",
    "    X_final = tf.convert_to_tensor(embedded_docs)\n",
    "\n",
    "    # Make predictions\n",
    "    y_pred = loaded_model.predict(X_final)\n",
    "\n",
    "    # Display result in the result text box\n",
    "    result = 'Positive' if y_pred[0] > 0.5 else 'Negative'\n",
    "    result_text.insert(tk.END, f\"Prediction: {result}\\n\")\n",
    "\n",
    "def get_input_and_predict(entry, result_text):\n",
    "    # Get input from the user using the input text box\n",
    "    user_input = entry.get()\n",
    "\n",
    "    if user_input:\n",
    "        # Perform sentiment prediction\n",
    "        predict_sentiment(user_input, result_text)\n",
    "\n",
    "# Create the main window\n",
    "root = tk.Tk()\n",
    "root.title(\"Sentiment Prediction Using English Review\")\n",
    "\n",
    "# Create a label for the title\n",
    "title_label = tk.Label(root, text=\"Sentiment Prediction Using English Review\", font=(\"Helvetica\", 16, \"bold\"))\n",
    "title_label.pack(pady=10)\n",
    "\n",
    "# Create a label for input\n",
    "input_label = tk.Label(root, text=\"Input Text:\", font=(\"Helvetica\", 12 ))\n",
    "input_label.pack(pady=5)\n",
    "\n",
    "# Create an entry widget for input\n",
    "input_entry = tk.Entry(root, width=40)\n",
    "input_entry.pack(pady=10)\n",
    "\n",
    "# Create a label for result\n",
    "result_label = tk.Label(root, text=\"Result:\", font=(\"Helvetica\", 12 ))\n",
    "result_label.pack(pady=5)\n",
    "\n",
    "# Create a text widget for displaying the result\n",
    "result_text = tk.Text(root, height=3, width=40)\n",
    "result_text.pack(pady=10)\n",
    "\n",
    "# Create a button to trigger sentiment prediction\n",
    "predict_button = tk.Button(root, text=\"Predict Sentiment\", command=lambda: get_input_and_predict(input_entry, result_text))\n",
    "predict_button.pack(pady=10)\n",
    "\n",
    "# Run the main loop\n",
    "root.mainloop()\n"
   ]
  },
  {
   "cell_type": "code",
   "execution_count": null,
   "id": "c6b44b91",
   "metadata": {},
   "outputs": [],
   "source": []
  },
  {
   "cell_type": "code",
   "execution_count": 3,
   "id": "84d84e6f",
   "metadata": {},
   "outputs": [],
   "source": []
  },
  {
   "cell_type": "code",
   "execution_count": null,
   "id": "8b463474",
   "metadata": {},
   "outputs": [],
   "source": []
  }
 ],
 "metadata": {
  "kernelspec": {
   "display_name": "Python 3 (ipykernel)",
   "language": "python",
   "name": "python3"
  },
  "language_info": {
   "codemirror_mode": {
    "name": "ipython",
    "version": 3
   },
   "file_extension": ".py",
   "mimetype": "text/x-python",
   "name": "python",
   "nbconvert_exporter": "python",
   "pygments_lexer": "ipython3",
   "version": "3.8.13"
  }
 },
 "nbformat": 4,
 "nbformat_minor": 5
}
